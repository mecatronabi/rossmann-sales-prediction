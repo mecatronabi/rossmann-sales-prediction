{
 "cells": [
  {
   "cell_type": "markdown",
   "id": "fef71bf1-1e80-4350-8678-151c59acd1c5",
   "metadata": {},
   "source": [
    "## Script Python para descargar desde Kaggle API"
   ]
  },
  {
   "cell_type": "code",
   "execution_count": 2,
   "id": "d4c5ca1a-0b3b-44cf-a1c7-c5ec17df9099",
   "metadata": {},
   "outputs": [
    {
     "name": "stdout",
     "output_type": "stream",
     "text": [
      "✅ Dataset descargado y extraído correctamente.\n"
     ]
    }
   ],
   "source": [
    "import os\n",
    "from kaggle.api.kaggle_api_extended import KaggleApi\n",
    "import zipfile\n",
    "\n",
    "# ✅ Configura la autenticación\n",
    "os.environ['KAGGLE_CONFIG_DIR'] = os.path.expanduser('C:\\\\Users\\\\ingna\\\\.kaggle')\n",
    "\n",
    "# ✅ Inicia la API de Kaggle\n",
    "api = KaggleApi()\n",
    "api.authenticate()\n",
    "\n",
    "# ✅ Descarga el dataset en la carpeta data/\n",
    "output_path = \"../data\"\n",
    "os.makedirs(output_path, exist_ok=True)\n",
    "\n",
    "api.competition_download_files('rossmann-store-sales', path=output_path)\n",
    "\n",
    "# ✅ Extrae el zip\n",
    "zip_path = os.path.join(output_path, 'rossmann-store-sales.zip')\n",
    "with zipfile.ZipFile(zip_path, 'r') as zip_ref:\n",
    "    zip_ref.extractall(output_path)\n",
    "\n",
    "print(\"✅ Dataset descargado y extraído correctamente.\")\n"
   ]
  },
  {
   "cell_type": "code",
   "execution_count": null,
   "id": "9624df16-2fd4-4249-aeb8-314bf8f981d4",
   "metadata": {},
   "outputs": [],
   "source": []
  }
 ],
 "metadata": {
  "kernelspec": {
   "display_name": "Python (.venv Rossmann)",
   "language": "python",
   "name": "venv-rossmann"
  },
  "language_info": {
   "codemirror_mode": {
    "name": "ipython",
    "version": 3
   },
   "file_extension": ".py",
   "mimetype": "text/x-python",
   "name": "python",
   "nbconvert_exporter": "python",
   "pygments_lexer": "ipython3",
   "version": "3.10.10"
  }
 },
 "nbformat": 4,
 "nbformat_minor": 5
}
